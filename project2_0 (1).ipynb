{
  "nbformat": 4,
  "nbformat_minor": 0,
  "metadata": {
    "colab": {
      "provenance": []
    },
    "kernelspec": {
      "name": "python3",
      "display_name": "Python 3"
    },
    "language_info": {
      "name": "python"
    }
  },
  "cells": [
    {
      "cell_type": "markdown",
      "source": [
        "**NEXT WORD PREDICTION USING UNIVERSAL SENTENCE ENCODER**\n",
        "\n"
      ],
      "metadata": {
        "id": "jBc67QO88NPx"
      }
    },
    {
      "cell_type": "markdown",
      "source": [
        "**Import Library** "
      ],
      "metadata": {
        "id": "dNicCtbp7X7Z"
      }
    },
    {
      "cell_type": "code",
      "source": [
        "# Getting all required libraries\n",
        "\n",
        "import os\n",
        "import re\n",
        "import gdown\n",
        "import numpy\n",
        "import string\n",
        "import numpy as np\n",
        "import pandas as pd\n",
        "import seaborn as sns\n",
        "import tensorflow as tf\n",
        "from absl import logging\n",
        "import tensorflow_hub as hub\n",
        "from tensorflow import keras\n",
        "import matplotlib.pyplot as plt\n",
        "from keras.models import Sequential\n",
        "import tensorflow.keras.backend as K\n",
        "#from keras.layers.recurrent import LSTM\n",
        "from keras.layers import Dense, Activation\n",
        "from keras.callbacks import LambdaCallback\n",
        "from keras.utils.data_utils import get_file\n",
        "#from keras.layers.embeddings import Embedding\n",
        "from sklearn.model_selection import train_test_split\n"
      ],
      "metadata": {
        "id": "p7eqVcRS4O1J"
      },
      "execution_count": null,
      "outputs": []
    },
    {
      "cell_type": "markdown",
      "source": [
        "**Data preparation - Generating Corpus**\n"
      ],
      "metadata": {
        "id": "A-Y8mrBk7TkM"
      }
    },
    {
      "cell_type": "code",
      "source": [
        "\n",
        "url = ' https://drive.google.com/uc?id=1YTBR7FiXssaKXHhOZbUbwoWw6jzQxxKW'\n",
        "output = 'corpus.txt'\n",
        "gdown.download(url, output, quiet=False)\n",
        "\n",
        "# sentence_length = 40\n",
        "\n",
        "# Read local file from directory\n",
        "with open('corpus.txt') as subject:\n",
        "  cache = subject.readlines()\n",
        "translator = str.maketrans('', '', string.punctuation) # Remove punctuation\n",
        "lines = [doc.lower().translate(translator) for doc in cache] # Switch to lower case"
      ],
      "metadata": {
        "colab": {
          "base_uri": "https://localhost:8080/"
        },
        "id": "H_AyBhOs5Dx6",
        "outputId": "52b3bd24-85f9-4baa-a6a4-ac8b6f62ae28"
      },
      "execution_count": null,
      "outputs": [
        {
          "output_type": "stream",
          "name": "stderr",
          "text": [
            "Downloading...\n",
            "From:  https://drive.google.com/uc?id=1YTBR7FiXssaKXHhOZbUbwoWw6jzQxxKW\n",
            "To: /content/corpus.txt\n",
            "100%|██████████| 7.55M/7.55M [00:00<00:00, 28.6MB/s]\n"
          ]
        }
      ]
    },
    {
      "cell_type": "code",
      "source": [
        "# print(lines[0][:100])\n",
        " #len(lines)"
      ],
      "metadata": {
        "id": "pKZ1ZbIw5hoW"
      },
      "execution_count": null,
      "outputs": []
    },
    {
      "cell_type": "code",
      "source": [
        "# Generate an list of single/independent words\n",
        "\n",
        "vocabulary = list(set(' '.join(lines).replace('\\n','').split(' ')))\n",
        "primary_store = {}\n",
        "for strings, texts in enumerate(vocabulary):\n",
        "  primary_store[texts] = strings"
      ],
      "metadata": {
        "id": "QZCvRAEP5oSx"
      },
      "execution_count": null,
      "outputs": []
    },
    {
      "cell_type": "code",
      "source": [
        "# PREVIEW OUTPUT ::\n",
        "\n",
        "# print(vocabulary[:50])\n",
        "# len(vocabulary)"
      ],
      "metadata": {
        "id": "qVzwfUKy5rVj"
      },
      "execution_count": null,
      "outputs": []
    },
    {
      "cell_type": "code",
      "source": [
        "# Splitting data into Train sets and test sets\n",
        "\n",
        "X = [] \n",
        "y = []\n",
        "\n",
        "for c in lines:\n",
        "  xxxx = c.replace('\\n','').split(' ')\n",
        "  X.append(' '.join(xxxx[:-1])) # X from the corpus\n",
        "\n",
        "  yyyy = [0 for i in range(len(vocabulary))] # Generate Y from the Vocabulary\n",
        "  # yyyy[primary_store[xxxx[-1]]] = 1\n",
        "  yyyy[primary_store[xxxx[-1]]] = 1\n",
        "  y.append(yyyy)\n",
        "\n",
        "X_train, X_test, y_train, y_test = train_test_split(X, y, test_size=0.25, random_state=42)\n",
        "y_test = numpy.array(y_test)\n",
        "y_train = numpy.array(y_train)"
      ],
      "metadata": {
        "id": "-vvItjxI5uKz"
      },
      "execution_count": null,
      "outputs": []
    },
    {
      "cell_type": "code",
      "source": [
        "# PREVIEW OUTPUT ::\n",
        "\n",
        "# print(X_train[:10])\n",
        "# print(y_train[:10])\n",
        "# print(X_test[:10])\n",
        "# print(y_test[:10])"
      ],
      "metadata": {
        "id": "oIeOyaZX5yXQ"
      },
      "execution_count": null,
      "outputs": []
    },
    {
      "cell_type": "markdown",
      "source": [
        "**Embeddings!**\n"
      ],
      "metadata": {
        "id": "AFeJYw-x6ukL"
      }
    },
    {
      "cell_type": "code",
      "source": [
        "# Import the Universal Sentence Encoder's TF Hub module (Here we're making use of version 4)\n",
        "# This will take a while but won't be long :)\n",
        "\n",
        "module_url = \"https://tfhub.dev/google/universal-sentence-encoder/4\"  \n",
        "appreciate = hub.load(module_url)\n",
        "\n",
        "# Making it easier - Function for embedding\n",
        "def embed(goodness):\n",
        "  return appreciate(goodness)"
      ],
      "metadata": {
        "id": "9VA8_hXs51aE"
      },
      "execution_count": null,
      "outputs": []
    },
    {
      "cell_type": "code",
      "source": [
        "# REVIEW OUTPUT ::\n",
        "\n",
        "# appreciate.variables"
      ],
      "metadata": {
        "id": "mqoF2JcD55-d"
      },
      "execution_count": null,
      "outputs": []
    },
    {
      "cell_type": "code",
      "source": [
        "# Wrapping up with the U-S-E\n",
        "\n",
        "X_train = embed(X_train)\n",
        "X_test = embed(X_test)\n",
        "X_train = X_train.numpy()\n",
        "X_test = X_test.numpy()"
      ],
      "metadata": {
        "id": "Lw822Lqe56zx"
      },
      "execution_count": null,
      "outputs": []
    },
    {
      "cell_type": "code",
      "source": [
        "# PREVIEW OUTPUT ::\n",
        "\n",
        "# print(X_train[:10])\n",
        "# print(y_train[:10])\n",
        "# print(X_test[:10])\n",
        "# print(y_test[:10])\n",
        "# print(X_train.shape, X_test.shape, y_test.shape, y_train.shape)"
      ],
      "metadata": {
        "id": "vBelHG2f6AqY"
      },
      "execution_count": null,
      "outputs": []
    },
    {
      "cell_type": "markdown",
      "source": [
        "**Building the model**\n"
      ],
      "metadata": {
        "id": "j8hgLALU63lw"
      }
    },
    {
      "cell_type": "code",
      "source": [
        "model = Sequential()\n",
        "# model.add(Embedding(input_dim=len(vocabulary), output_dim=100))\n",
        "model = Sequential()\n",
        "# model.add(LSTM(units=100, input_shape=[512]))\n",
        "model.add(Dense(512, input_shape=[512], activation = 'relu'))\n",
        "model.add(Dense(units=len(vocabulary), activation = 'softmax'))\n",
        "model.compile(loss='categorical_crossentropy', optimizer='adam', metrics=['acc'])\n",
        "model.summary()"
      ],
      "metadata": {
        "colab": {
          "base_uri": "https://localhost:8080/"
        },
        "id": "3pdDToFF6HvD",
        "outputId": "86671872-284c-44b8-a3d4-8d866e7f9846"
      },
      "execution_count": null,
      "outputs": [
        {
          "output_type": "stream",
          "name": "stdout",
          "text": [
            "Model: \"sequential_1\"\n",
            "_________________________________________________________________\n",
            " Layer (type)                Output Shape              Param #   \n",
            "=================================================================\n",
            " dense (Dense)               (None, 512)               262656    \n",
            "                                                                 \n",
            " dense_1 (Dense)             (None, 2694)              1382022   \n",
            "                                                                 \n",
            "=================================================================\n",
            "Total params: 1,644,678\n",
            "Trainable params: 1,644,678\n",
            "Non-trainable params: 0\n",
            "_________________________________________________________________\n"
          ]
        }
      ]
    },
    {
      "cell_type": "code",
      "source": [
        "# Training the model. \n",
        "\n",
        "history = model.fit(X_train, y_train, batch_size=512, shuffle=True, epochs=20, validation_data=(X_test, y_test), callbacks=[LambdaCallback()])"
      ],
      "metadata": {
        "colab": {
          "base_uri": "https://localhost:8080/"
        },
        "id": "qBHK4i8P6MNe",
        "outputId": "38530c3f-d4ba-4c62-cc53-ec3cf3b94d57"
      },
      "execution_count": null,
      "outputs": [
        {
          "output_type": "stream",
          "name": "stdout",
          "text": [
            "Epoch 1/20\n",
            "11/11 [==============================] - 3s 206ms/step - loss: 7.6381 - acc: 0.0772 - val_loss: 6.9790 - val_acc: 0.0694\n",
            "Epoch 2/20\n",
            "11/11 [==============================] - 2s 183ms/step - loss: 5.8886 - acc: 0.0600 - val_loss: 4.4898 - val_acc: 0.0550\n",
            "Epoch 3/20\n",
            "11/11 [==============================] - 2s 186ms/step - loss: 4.2207 - acc: 0.0693 - val_loss: 4.0868 - val_acc: 0.0956\n",
            "Epoch 4/20\n",
            "11/11 [==============================] - 2s 176ms/step - loss: 3.9848 - acc: 0.1548 - val_loss: 3.8710 - val_acc: 0.2050\n",
            "Epoch 5/20\n",
            "11/11 [==============================] - 2s 177ms/step - loss: 3.7669 - acc: 0.2046 - val_loss: 3.6215 - val_acc: 0.2639\n",
            "Epoch 6/20\n",
            "11/11 [==============================] - 2s 174ms/step - loss: 3.4785 - acc: 0.3187 - val_loss: 3.2987 - val_acc: 0.4244\n",
            "Epoch 7/20\n",
            "11/11 [==============================] - 2s 172ms/step - loss: 3.1191 - acc: 0.4865 - val_loss: 2.9033 - val_acc: 0.6467\n",
            "Epoch 8/20\n",
            "11/11 [==============================] - 2s 169ms/step - loss: 2.7074 - acc: 0.7654 - val_loss: 2.4730 - val_acc: 0.8000\n",
            "Epoch 9/20\n",
            "11/11 [==============================] - 2s 167ms/step - loss: 2.2587 - acc: 0.8263 - val_loss: 2.0177 - val_acc: 0.9189\n",
            "Epoch 10/20\n",
            "11/11 [==============================] - 2s 171ms/step - loss: 1.8053 - acc: 0.9541 - val_loss: 1.5853 - val_acc: 0.9611\n",
            "Epoch 11/20\n",
            "11/11 [==============================] - 2s 171ms/step - loss: 1.3813 - acc: 0.9830 - val_loss: 1.1919 - val_acc: 0.9889\n",
            "Epoch 12/20\n",
            "11/11 [==============================] - 2s 174ms/step - loss: 1.0173 - acc: 0.9967 - val_loss: 0.8689 - val_acc: 1.0000\n",
            "Epoch 13/20\n",
            "11/11 [==============================] - 2s 170ms/step - loss: 0.7301 - acc: 1.0000 - val_loss: 0.6204 - val_acc: 1.0000\n",
            "Epoch 14/20\n",
            "11/11 [==============================] - 2s 174ms/step - loss: 0.5215 - acc: 1.0000 - val_loss: 0.4483 - val_acc: 1.0000\n",
            "Epoch 15/20\n",
            "11/11 [==============================] - 2s 175ms/step - loss: 0.3785 - acc: 1.0000 - val_loss: 0.3301 - val_acc: 1.0000\n",
            "Epoch 16/20\n",
            "11/11 [==============================] - 2s 173ms/step - loss: 0.2800 - acc: 1.0000 - val_loss: 0.2496 - val_acc: 1.0000\n",
            "Epoch 17/20\n",
            "11/11 [==============================] - 2s 173ms/step - loss: 0.2144 - acc: 1.0000 - val_loss: 0.1950 - val_acc: 1.0000\n",
            "Epoch 18/20\n",
            "11/11 [==============================] - 2s 172ms/step - loss: 0.1697 - acc: 1.0000 - val_loss: 0.1573 - val_acc: 1.0000\n",
            "Epoch 19/20\n",
            "11/11 [==============================] - 2s 174ms/step - loss: 0.1380 - acc: 1.0000 - val_loss: 0.1292 - val_acc: 1.0000\n",
            "Epoch 20/20\n",
            "11/11 [==============================] - 2s 172ms/step - loss: 0.1143 - acc: 1.0000 - val_loss: 0.1087 - val_acc: 1.0000\n"
          ]
        }
      ]
    },
    {
      "cell_type": "code",
      "source": [
        "import matplotlib.pyplot as plt\n",
        "\n",
        "\n",
        "def plot_graphs(history, string):\n",
        "    plt.plot(history.history[string])\n",
        "    plt.xlabel(\"Epochs\")\n",
        "    plt.ylabel(string)\n",
        "    plt.show()"
      ],
      "metadata": {
        "id": "2srbTrbE8d01"
      },
      "execution_count": null,
      "outputs": []
    },
    {
      "cell_type": "code",
      "source": [
        "plot_graphs(history, 'acc')"
      ],
      "metadata": {
        "colab": {
          "base_uri": "https://localhost:8080/",
          "height": 279
        },
        "id": "iIbTogFC8fl2",
        "outputId": "e431fe41-262c-4c7b-bfa8-22bfcd25b169"
      },
      "execution_count": null,
      "outputs": [
        {
          "output_type": "display_data",
          "data": {
            "text/plain": [
              "<Figure size 432x288 with 1 Axes>"
            ],
            "image/png": "[encoded data removed]"
          },
          "metadata": {
            "needs_background": "light"
          }
        }
      ]
    },
    {
      "cell_type": "code",
      "source": [
        "plot_graphs(history, 'loss')"
      ],
      "metadata": {
        "colab": {
          "base_uri": "https://localhost:8080/",
          "height": 283
        },
        "id": "fOoKrgyW8kPj",
        "outputId": "a27f3006-2a19-4c8a-ee65-9f4df7255a89"
      },
      "execution_count": null,
      "outputs": [
        {
          "output_type": "display_data",
          "data": {
            "text/plain": [
              "<Figure size 432x288 with 1 Axes>"
            ],
            "image/png": "[encoded data removed]"
          },
          "metadata": {
            "needs_background": "light"
          }
        }
      ]
    },
    {
      "cell_type": "markdown",
      "source": [
        "**Unto the tests!**"
      ],
      "metadata": {
        "id": "UMhc8JWv7DP3"
      }
    },
    {
      "cell_type": "code",
      "source": [
        "# Create function to predict and show detailed output\n",
        "\n",
        "def next_word(collection=[], extent=1):\n",
        "\n",
        "  for item in collection:\n",
        "    text = item\n",
        "    for i in range(extent):\n",
        "      prediction = model.predict(x=embed([item]).numpy())\n",
        "      idx = np.argmax(prediction[-1])\n",
        "      item += ' ' + vocabulary[idx]\n",
        "      \n",
        "      print(text + ' --> ' + item + '\\nNEXT WORD: ' + item.split(' ')[-1] + '\\n')"
      ],
      "metadata": {
        "id": "qKVmECz56Pp7"
      },
      "execution_count": null,
      "outputs": []
    },
    {
      "cell_type": "code",
      "source": [
        "# Tests - please feel free to explore\n",
        "\n",
        "single_text = ['and some other essential']\n",
        "\n",
        "next_word(single_text)"
      ],
      "metadata": {
        "colab": {
          "base_uri": "https://localhost:8080/"
        },
        "id": "aDCaBGnQ6TIe",
        "outputId": "cb026e84-14d7-4d84-dc3e-c4997638217c"
      },
      "execution_count": null,
      "outputs": [
        {
          "output_type": "stream",
          "name": "stdout",
          "text": [
            "1/1 [==============================] - 0s 82ms/step\n",
            "and some other essential --> and some other essential networks\n",
            "NEXT WORD: networks\n",
            "\n"
          ]
        }
      ]
    },
    {
      "cell_type": "code",
      "source": [
        "# Testing on a collection of words\n",
        "\n",
        "text_collection = ['deep convolutional', 'simple and effective', 'a nonconvex', 'a']\n",
        "\n",
        "next_word(text_collection)"
      ],
      "metadata": {
        "colab": {
          "base_uri": "https://localhost:8080/"
        },
        "id": "hCQ6BuQ-6T61",
        "outputId": "e8921e45-a70d-4457-b56d-da723a207b9a"
      },
      "execution_count": null,
      "outputs": [
        {
          "output_type": "stream",
          "name": "stdout",
          "text": [
            "1/1 [==============================] - 0s 18ms/step\n",
            "deep convolutional --> deep convolutional networks\n",
            "NEXT WORD: networks\n",
            "\n",
            "1/1 [==============================] - 0s 19ms/step\n",
            "simple and effective --> simple and effective estimators\n",
            "NEXT WORD: estimators\n",
            "\n",
            "1/1 [==============================] - 0s 18ms/step\n",
            "a nonconvex --> a nonconvex dataset\n",
            "NEXT WORD: dataset\n",
            "\n",
            "1/1 [==============================] - 0s 22ms/step\n",
            "a --> a accuracy\n",
            "NEXT WORD: accuracy\n",
            "\n"
          ]
        }
      ]
    },
    {
      "cell_type": "markdown",
      "source": [
        "**For the record**"
      ],
      "metadata": {
        "id": "2mUBO6oJ7Mpo"
      }
    },
    {
      "cell_type": "code",
      "source": [
        "\n",
        "vocabulary = numpy.array(vocabulary)\n",
        "numpy.save('./vocabulary.npy', vocabulary)\n",
        "model.save('./NWP-USE')"
      ],
      "metadata": {
        "id": "jq8xx5Oz6ddA"
      },
      "execution_count": null,
      "outputs": []
    }
  ]
}